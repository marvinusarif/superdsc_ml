{
 "cells": [
  {
   "cell_type": "code",
   "execution_count": 1,
   "metadata": {
    "scrolled": true
   },
   "outputs": [
    {
     "name": "stderr",
     "output_type": "stream",
     "text": [
      "Using TensorFlow backend.\n"
     ]
    }
   ],
   "source": [
    "import tensorflow as tf\n",
    "from keras.models import Sequential\n",
    "from keras.layers import Conv2D, MaxPooling2D, Flatten, Dense\n",
    "from keras.backend.tensorflow_backend import set_session\n",
    "config = tf.ConfigProto()\n",
    "config.gpu_options.allow_growth = True  # dynamically grow the memory used on the GPU\n",
    "config.log_device_placement = True  # to log device placement (on which device the operation ran)\n",
    "                                    # (nothing gets printed in Jupyter, only if you run it standalone)\n",
    "sess = tf.Session(config=config)\n",
    "set_session(sess)  # set this TensorFlow session as the default session for Keras"
   ]
  },
  {
   "cell_type": "code",
   "execution_count": 2,
   "metadata": {},
   "outputs": [],
   "source": [
    "#define classifier \n",
    "classifier = Sequential()"
   ]
  },
  {
   "cell_type": "code",
   "execution_count": 3,
   "metadata": {},
   "outputs": [],
   "source": [
    "#step 1 Convolution\n",
    "#input shape (256, 256, 3) => means 3 channels = RGB, 256 pixel x 256 pixel\n",
    "#input shape (256, 256, 3) => means 2 channels = Grayscale, 256 pixel x 256 pixel\n",
    "#input shape can be compressed to 3 or 256 x 256\n",
    "#number of filters equals to featured convoluted map produce (32)\n",
    "#kernel_size : size of convolution filter = (3,3) means 3 x 3\n",
    "#strides = the distance the filter convoluted, default value is (1,1)\n",
    "#activation function to get the nonlinearity = 'relu'\n",
    "classifier.add(Conv2D(filters=32, \n",
    "                      kernel_size = (3, 3), \n",
    "                      input_shape=(64, 64, 3), \n",
    "                      activation='relu'))"
   ]
  },
  {
   "cell_type": "code",
   "execution_count": 4,
   "metadata": {},
   "outputs": [],
   "source": [
    "#step 2 Pooling\n",
    "#pool_size by default (2,2)\n",
    "#strides default is None if None it will be set as like pool_size\n",
    "classifier.add(MaxPooling2D(pool_size=(2,2)))"
   ]
  },
  {
   "cell_type": "code",
   "execution_count": 5,
   "metadata": {},
   "outputs": [],
   "source": [
    "#to optimize we can have 2nd convolution layer\n",
    "#we don't need to declare the input map since it has been set by previous layer\n",
    "classifier.add(Conv2D(filters=32, \n",
    "                      kernel_size = (3, 3), \n",
    "                      activation='relu'))"
   ]
  },
  {
   "cell_type": "code",
   "execution_count": 6,
   "metadata": {},
   "outputs": [],
   "source": [
    "#add 2nd pooling layer\n",
    "classifier.add(MaxPooling2D(pool_size=(2,2)))"
   ]
  },
  {
   "cell_type": "code",
   "execution_count": 7,
   "metadata": {},
   "outputs": [],
   "source": [
    "#step 3 flatenning\n",
    "classifier.add(Flatten())"
   ]
  },
  {
   "cell_type": "code",
   "execution_count": 8,
   "metadata": {},
   "outputs": [],
   "source": [
    "#step 4 Full Connection\n",
    "#units (nodes in the layer should not be too small) = by experimentation is 128\n",
    "classifier.add(Dense(units = 128, \n",
    "                     activation='relu'))"
   ]
  },
  {
   "cell_type": "code",
   "execution_count": 9,
   "metadata": {},
   "outputs": [],
   "source": [
    "#output layer => output layer only 1 node because our dependent variable \n",
    "#is binary outcome cat or dog\n",
    "classifier.add(Dense(units = 1, \n",
    "                     activation='sigmoid'))"
   ]
  },
  {
   "cell_type": "code",
   "execution_count": 10,
   "metadata": {},
   "outputs": [],
   "source": [
    "#optimizer = 'adam' is the stohastic gradient descent\n",
    "#loss function => binary_crossentropy for 2 outcomes, if we have 3 outcomes\n",
    "# we should use categorical_crossentropy\n",
    "classifier.compile(optimizer=\"adam\", \n",
    "                   loss = \"binary_crossentropy\",\n",
    "                   metrics = [\"accuracy\"])"
   ]
  },
  {
   "cell_type": "code",
   "execution_count": 11,
   "metadata": {},
   "outputs": [
    {
     "name": "stdout",
     "output_type": "stream",
     "text": [
      "Found 8000 images belonging to 2 classes.\n",
      "Found 2000 images belonging to 2 classes.\n"
     ]
    }
   ],
   "source": [
    "from keras.preprocessing.image import ImageDataGenerator\n",
    "\n",
    "train_datagen = ImageDataGenerator(\n",
    "        rescale=1./255,\n",
    "        shear_range=0.2,\n",
    "        zoom_range=0.2,\n",
    "        horizontal_flip=True)\n",
    "\n",
    "test_datagen = ImageDataGenerator(rescale=1./255)\n",
    "\n",
    "#target_size is the dimension expected by the CNN 64 x 64 \n",
    "#batch_size is the number of samples will be included in the sets that will\n",
    "# go through the CNN which the weights will be updated\n",
    "#class_mode should be set it is binary or more than 2 categories \n",
    "training_set = train_datagen.flow_from_directory(\n",
    "        '../Section 40 - Convolutional Neural Networks (CNN)/dataset/training_set',\n",
    "        target_size=(64, 64),\n",
    "        batch_size=32,\n",
    "        class_mode='binary')\n",
    "\n",
    "test_set = test_datagen.flow_from_directory(\n",
    "        '../Section 40 - Convolutional Neural Networks (CNN)/dataset/test_set',\n",
    "        target_size=(64, 64),\n",
    "        batch_size=32,\n",
    "        class_mode='binary')"
   ]
  },
  {
   "cell_type": "code",
   "execution_count": null,
   "metadata": {},
   "outputs": [
    {
     "name": "stdout",
     "output_type": "stream",
     "text": [
      "Epoch 1/2\n",
      "8000/8000 [==============================] - 1323s 165ms/step - loss: 0.0330 - acc: 0.9888 - val_loss: 1.3560 - val_acc: 0.7780\n",
      "Epoch 2/2\n",
      "1714/8000 [=====>........................] - ETA: 14:11 - loss: 0.0292 - acc: 0.9900"
     ]
    }
   ],
   "source": [
    "#epoch is the number of training set of each epochs (8000 images will be train each epoch)\n",
    "#validation_steps => corresponds to the number of images in our test set\n",
    "classifier.fit_generator(\n",
    "        training_set,\n",
    "        steps_per_epoch=8000,\n",
    "        epochs=2,\n",
    "        validation_data=test_set,\n",
    "        validation_steps=2000)"
   ]
  }
 ],
 "metadata": {
  "kernelspec": {
   "display_name": "Python [conda env:tensorflow-gpu]",
   "language": "python",
   "name": "conda-env-tensorflow-gpu-py"
  },
  "language_info": {
   "codemirror_mode": {
    "name": "ipython",
    "version": 3
   },
   "file_extension": ".py",
   "mimetype": "text/x-python",
   "name": "python",
   "nbconvert_exporter": "python",
   "pygments_lexer": "ipython3",
   "version": "3.5.6"
  }
 },
 "nbformat": 4,
 "nbformat_minor": 2
}
