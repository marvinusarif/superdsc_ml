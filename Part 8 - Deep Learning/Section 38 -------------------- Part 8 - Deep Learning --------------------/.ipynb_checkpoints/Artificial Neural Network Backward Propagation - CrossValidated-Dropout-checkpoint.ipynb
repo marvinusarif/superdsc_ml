{
 "cells": [
  {
   "cell_type": "code",
   "execution_count": 1,
   "metadata": {},
   "outputs": [
    {
     "name": "stderr",
     "output_type": "stream",
     "text": [
      "Using TensorFlow backend.\n"
     ]
    }
   ],
   "source": [
    "import numpy as np\n",
    "import pandas as pd\n",
    "import matplotlib.pyplot as plt\n",
    "from sklearn.model_selection import train_test_split\n",
    "from sklearn.preprocessing import LabelEncoder, OneHotEncoder, StandardScaler\n",
    "\n",
    "import tensorflow as tf\n",
    "from keras.backend.tensorflow_backend import set_session\n",
    "import keras\n",
    "from keras.models import Sequential\n",
    "from keras.layers import Dense, Dropout\n",
    "from keras.wrappers.scikit_learn import KerasClassifier\n",
    "from sklearn.model_selection import cross_val_score\n",
    "\n",
    "class testnjob :\n",
    "    def __init__(self, X_train, y_train) :\n",
    "        classifier = KerasClassifier(build_fn = self.build_classifier,\n",
    "                             batch_size=10,\n",
    "                             nb_epoch = 3)\n",
    "        self.accuracies = cross_val_score(estimator = classifier,\n",
    "                             X = X_train,\n",
    "                             y = y_train,\n",
    "                             cv = 10,\n",
    "                             n_jobs=-1)\n",
    "\n",
    "    def build_classifier(self):\n",
    "        classifier = Sequential()\n",
    "        classifier.add(Dense(input_dim=11,\n",
    "                             units=6,\n",
    "                             kernel_initializer='uniform',\n",
    "                             activation = 'relu'))\n",
    "        classifier.add(Dropout(p=0.1))\n",
    "        classifier.add(Dense(units=6,\n",
    "                             kernel_initializer='uniform',\n",
    "                             activation=\"relu\"))\n",
    "        classifier.add(Dropout(p=0.1))\n",
    "        classifier.add(Dense(units=1,\n",
    "                             kernel_initializer='uniform',\n",
    "                             activation=\"sigmoid\"))\n",
    "        classifier.compile(optimizer=\"adam\",\n",
    "                       loss = \"binary_crossentropy\",\n",
    "                       metrics = [\"accuracy\"])\n",
    "        return classifier\n",
    "\n",
    "    def message_print(self,msg):\n",
    "        print (\"##################################\")\n",
    "        print (msg)\n",
    "        print (\"##################################\")\n",
    "\n",
    "    def print_accuracies(self):\n",
    "        self.message_print('ACCURACIES:'+str(self.accuracies))\n",
    "        self.message_print('MEAN:' + str(np.mean(self.accuracies)))\n",
    "        self.message_print('STD:' + str(np.std(self.accuracies)))"
   ]
  },
  {
   "cell_type": "code",
   "execution_count": null,
   "metadata": {},
   "outputs": [],
   "source": [
    "if __name__ == '__main__' :\n",
    "    config = tf.ConfigProto()\n",
    "    config.gpu_options.allow_growth = True  # dynamically grow the memory used on the GPU\n",
    "    config.log_device_placement = True  # to log device placement (on which device the operation ran)\n",
    "                                        # (nothing gets printed in Jupyter, only if you run it standalone)\n",
    "    sess = tf.Session(config=config)\n",
    "    set_session(sess)  # set this TensorFlow session as the default session for Keras\n",
    "\n",
    "    df = pd.read_csv(\"../Section 39 - Artificial Neural Networks (ANN)/Churn_Modelling.csv\")\n",
    "    df.tail()\n",
    "\n",
    "    _df = df[['CreditScore', 'Geography', 'Gender', 'Age', 'Tenure', 'Balance', 'NumOfProducts', 'HasCrCard', 'IsActiveMember', 'EstimatedSalary', 'Exited']]\n",
    "\n",
    "    X = _df.iloc[:, :-1].values\n",
    "    y = _df.iloc[:, -1].values\n",
    "\n",
    "    label_encoder = LabelEncoder()\n",
    "    X[:, 1] = label_encoder.fit_transform(X[:,1])\n",
    "    X[:, 2] = label_encoder.fit_transform(X[:, 2])\n",
    "\n",
    "    hot_encoder = OneHotEncoder(categorical_features=[1])\n",
    "    X = hot_encoder.fit_transform(X).toarray()\n",
    "\n",
    "    #remove dummy variables\n",
    "    X = X[:, 1:]\n",
    "\n",
    "    X_train, X_test, y_train, y_test = train_test_split(X, y, test_size=0.2)\n",
    "\n",
    "    sc = StandardScaler()\n",
    "    X_train = sc.fit_transform(X_train)\n",
    "    X_test = sc.transform(X_test)\n",
    "\n",
    "    # DO preprocessing here and get X_train and y_train\n",
    "    test_obj = testnjob(X_train, y_train)\n",
    "    test_obj.print_accuracies()\n"
   ]
  }
 ],
 "metadata": {
  "kernelspec": {
   "display_name": "Python [conda env:tensorflow-gpu]",
   "language": "python",
   "name": "conda-env-tensorflow-gpu-py"
  },
  "language_info": {
   "codemirror_mode": {
    "name": "ipython",
    "version": 3
   },
   "file_extension": ".py",
   "mimetype": "text/x-python",
   "name": "python",
   "nbconvert_exporter": "python",
   "pygments_lexer": "ipython3",
   "version": "3.5.6"
  }
 },
 "nbformat": 4,
 "nbformat_minor": 2
}
