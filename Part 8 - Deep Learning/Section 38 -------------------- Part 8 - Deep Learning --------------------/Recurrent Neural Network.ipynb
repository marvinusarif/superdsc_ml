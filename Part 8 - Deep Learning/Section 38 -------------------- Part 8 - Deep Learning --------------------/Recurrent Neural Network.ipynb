{
 "cells": [
  {
   "cell_type": "code",
   "execution_count": 79,
   "metadata": {},
   "outputs": [],
   "source": [
    "import numpy as np\n",
    "import pandas as pd\n",
    "import matplotlib.pyplot as plt\n",
    "from sklearn.model_selection import train_test_split\n",
    "from sklearn.preprocessing import LabelEncoder, OneHotEncoder, StandardScaler, MinMaxScaler\n",
    "\n",
    "import tensorflow as tf\n",
    "from keras.backend.tensorflow_backend import set_session\n",
    "import keras\n",
    "from keras.models import Sequential\n",
    "from keras.layers import Dense, Dropout, LSTM\n",
    "from keras.wrappers.scikit_learn import KerasClassifier\n",
    "from sklearn.model_selection import cross_val_score\n",
    "\n",
    "config = tf.ConfigProto()\n",
    "config.gpu_options.allow_growth = True  # dynamically grow the memory used on the GPU\n",
    "config.log_device_placement = True  # to log device placement (on which device the operation ran)\n",
    "                                    # (nothing gets printed in Jupyter, only if you run it standalone)\n",
    "sess = tf.Session(config=config)\n",
    "set_session(sess)  # set this TensorFlow session as the default session for Keras\n"
   ]
  },
  {
   "cell_type": "code",
   "execution_count": 80,
   "metadata": {},
   "outputs": [
    {
     "data": {
      "text/plain": [
       "((1258, 6), (20, 6))"
      ]
     },
     "execution_count": 80,
     "metadata": {},
     "output_type": "execute_result"
    }
   ],
   "source": [
    "df_train = pd.read_csv(\"../Recurrent_Neural_Networks/Google_Stock_Price_Train.csv\")\n",
    "df_test = pd.read_csv(\"../Recurrent_Neural_Networks/Google_Stock_Price_Test.csv\")\n",
    "df_train.shape, df_test.shape"
   ]
  },
  {
   "cell_type": "code",
   "execution_count": 81,
   "metadata": {},
   "outputs": [],
   "source": [
    "#train only use the open data\n",
    "train = df_train.iloc[:, 1:2].values"
   ]
  },
  {
   "cell_type": "code",
   "execution_count": 82,
   "metadata": {},
   "outputs": [
    {
     "data": {
      "text/plain": [
       "array([[0.08581368],\n",
       "       [0.09701243],\n",
       "       [0.09433366],\n",
       "       [0.09156187],\n",
       "       [0.07984225]])"
      ]
     },
     "execution_count": 82,
     "metadata": {},
     "output_type": "execute_result"
    }
   ],
   "source": [
    "#if we build RNN we should use minmaxfunction/ normalization rather than standardscaler\n",
    "#especially when we use sigmoid function as activation function\n",
    "sc = MinMaxScaler()\n",
    "training_set = sc.fit_transform(train)\n",
    "training_set[:5]"
   ]
  },
  {
   "cell_type": "code",
   "execution_count": 83,
   "metadata": {},
   "outputs": [
    {
     "data": {
      "text/plain": [
       "((1198, 60), (1198,))"
      ]
     },
     "execution_count": 83,
     "metadata": {},
     "output_type": "execute_result"
    }
   ],
   "source": [
    "#creating a data structure with 60 timesteps and 1 output\n",
    "x_train = []\n",
    "y_train = []\n",
    "\n",
    "for i in range(60, len(training_set)) :\n",
    "    x_train.append(training_set[i-60:i, 0])\n",
    "    y_train.append(training_set[i, 0])\n",
    "\n",
    "x_train, y_train = np.array(x_train), np.array(y_train)\n",
    "\n",
    "x_train.shape, y_train.shape"
   ]
  },
  {
   "cell_type": "code",
   "execution_count": 84,
   "metadata": {},
   "outputs": [
    {
     "data": {
      "text/plain": [
       "(1198, 60, 1)"
      ]
     },
     "execution_count": 84,
     "metadata": {},
     "output_type": "execute_result"
    }
   ],
   "source": [
    "#reshaping\n",
    "#keras only accept with format shape of (batch_size, timesteps, independent_variables)\n",
    "x_train = np.reshape(x_train, (x_train.shape[0], x_train.shape[1], 1))\n",
    "x_train.shape"
   ]
  },
  {
   "cell_type": "code",
   "execution_count": 85,
   "metadata": {},
   "outputs": [],
   "source": [
    "regressor = Sequential()\n",
    "'''\n",
    "    LSTM layer normally set to be 50\n",
    "    if you want to put another LSTM layer \n",
    "    - you should set return sequences to True\n",
    "'''\n",
    "# 1st LSTM layer and dropout\n",
    "regressor.add(LSTM(units=50,\n",
    "                   input_shape=(x_train.shape[1], x_train.shape[2]),\n",
    "                   return_sequences=True))\n",
    "regressor.add(Dropout(0.2))\n",
    "\n",
    "# 2nd LSTM layer and dropout\n",
    "regressor.add(LSTM(units=50,\n",
    "                  return_sequences=True))\n",
    "regressor.add(Dropout(0.2))\n",
    "\n",
    "# 3rd LSTM layer and dropout\n",
    "regressor.add(LSTM(units=50,\n",
    "                  return_sequences=True))\n",
    "regressor.add(Dropout(0.2))\n",
    "\n",
    "# 4rd LSTM Layer and dropout\n",
    "regressor.add(LSTM(units=50,\n",
    "                  return_sequences=False))\n",
    "regressor.add(Dropout(0.2))\n",
    "\n",
    "#final layer - full connection\n",
    "regressor.add(Dense(units=1, activation='relu'))\n",
    "\n",
    "regressor.compile(loss='mean_squared_error',\n",
    "              optimizer='adam')"
   ]
  },
  {
   "cell_type": "code",
   "execution_count": 86,
   "metadata": {},
   "outputs": [
    {
     "name": "stdout",
     "output_type": "stream",
     "text": [
      "Epoch 1/100\n",
      "1198/1198 [==============================] - 243s 203ms/step - loss: 0.0082\n",
      "Epoch 2/100\n",
      "1198/1198 [==============================] - 19s 16ms/step - loss: 0.0490\n",
      "Epoch 3/100\n",
      "1198/1198 [==============================] - 20s 17ms/step - loss: 0.0119\n",
      "Epoch 4/100\n",
      "1198/1198 [==============================] - 19s 16ms/step - loss: 0.0062\n",
      "Epoch 5/100\n",
      "1198/1198 [==============================] - 21s 18ms/step - loss: 0.0054\n",
      "Epoch 6/100\n",
      "1198/1198 [==============================] - 22s 18ms/step - loss: 0.0075\n",
      "Epoch 7/100\n",
      "1198/1198 [==============================] - 19s 16ms/step - loss: 0.0065\n",
      "Epoch 8/100\n",
      "1198/1198 [==============================] - 21s 18ms/step - loss: 0.0085\n",
      "Epoch 9/100\n",
      "1198/1198 [==============================] - 21s 18ms/step - loss: 0.0095\n",
      "Epoch 10/100\n",
      "1198/1198 [==============================] - 21s 18ms/step - loss: 0.0064\n",
      "Epoch 11/100\n",
      "1198/1198 [==============================] - 21s 18ms/step - loss: 0.0148\n",
      "Epoch 12/100\n",
      "1198/1198 [==============================] - 21s 18ms/step - loss: 0.0113\n",
      "Epoch 13/100\n",
      "1198/1198 [==============================] - 21s 18ms/step - loss: 0.0113\n",
      "Epoch 14/100\n",
      "1198/1198 [==============================] - 21s 18ms/step - loss: 0.0040\n",
      "Epoch 15/100\n",
      "1198/1198 [==============================] - 21s 18ms/step - loss: 0.0044\n",
      "Epoch 16/100\n",
      "1198/1198 [==============================] - 21s 18ms/step - loss: 0.0049\n",
      "Epoch 17/100\n",
      "1198/1198 [==============================] - 19s 16ms/step - loss: 0.0046\n",
      "Epoch 18/100\n",
      "1198/1198 [==============================] - 17s 14ms/step - loss: 0.0041\n",
      "Epoch 19/100\n",
      "1198/1198 [==============================] - 17s 15ms/step - loss: 0.0043\n",
      "Epoch 20/100\n",
      "1198/1198 [==============================] - 17s 14ms/step - loss: 0.0040\n",
      "Epoch 21/100\n",
      "1198/1198 [==============================] - 17s 14ms/step - loss: 0.0048\n",
      "Epoch 22/100\n",
      "1198/1198 [==============================] - 18s 15ms/step - loss: 0.0042\n",
      "Epoch 23/100\n",
      "1198/1198 [==============================] - 21s 18ms/step - loss: 0.0050\n",
      "Epoch 24/100\n",
      "1198/1198 [==============================] - 22s 18ms/step - loss: 0.0041\n",
      "Epoch 25/100\n",
      "1198/1198 [==============================] - 22s 18ms/step - loss: 0.0061\n",
      "Epoch 26/100\n",
      "1198/1198 [==============================] - 22s 18ms/step - loss: 0.0038\n",
      "Epoch 27/100\n",
      "1198/1198 [==============================] - 21s 18ms/step - loss: 0.0073\n",
      "Epoch 28/100\n",
      "1198/1198 [==============================] - 21s 18ms/step - loss: 0.0051\n",
      "Epoch 29/100\n",
      "1198/1198 [==============================] - 20s 16ms/step - loss: 0.0101\n",
      "Epoch 30/100\n",
      "1198/1198 [==============================] - 17s 14ms/step - loss: 0.0052\n",
      "Epoch 31/100\n",
      "1198/1198 [==============================] - 17s 14ms/step - loss: 0.0102\n",
      "Epoch 32/100\n",
      "1198/1198 [==============================] - 17s 14ms/step - loss: 0.0074\n",
      "Epoch 33/100\n",
      "1198/1198 [==============================] - 20s 17ms/step - loss: 0.0108\n",
      "Epoch 34/100\n",
      "1198/1198 [==============================] - 19s 16ms/step - loss: 0.0086\n",
      "Epoch 35/100\n",
      "1198/1198 [==============================] - 18s 15ms/step - loss: 0.0097\n",
      "Epoch 36/100\n",
      "1198/1198 [==============================] - 21s 17ms/step - loss: 0.0109\n",
      "Epoch 37/100\n",
      "1198/1198 [==============================] - 21s 18ms/step - loss: 0.0107\n",
      "Epoch 38/100\n",
      "1198/1198 [==============================] - 17s 14ms/step - loss: 0.0138\n",
      "Epoch 39/100\n",
      "1198/1198 [==============================] - 18s 15ms/step - loss: 0.0149\n",
      "Epoch 40/100\n",
      "1198/1198 [==============================] - 21s 18ms/step - loss: 0.0145\n",
      "Epoch 41/100\n",
      "1198/1198 [==============================] - 22s 18ms/step - loss: 0.0115\n",
      "Epoch 42/100\n",
      "1198/1198 [==============================] - 18s 15ms/step - loss: 0.0071\n",
      "Epoch 43/100\n",
      "1198/1198 [==============================] - 21s 18ms/step - loss: 0.0034\n",
      "Epoch 44/100\n",
      "1198/1198 [==============================] - 22s 18ms/step - loss: 0.0055\n",
      "Epoch 45/100\n",
      "1198/1198 [==============================] - 19s 16ms/step - loss: 0.0070\n",
      "Epoch 46/100\n",
      "1198/1198 [==============================] - 21s 18ms/step - loss: 0.0053\n",
      "Epoch 47/100\n",
      "1198/1198 [==============================] - 22s 18ms/step - loss: 0.0051\n",
      "Epoch 48/100\n",
      "1198/1198 [==============================] - 18s 15ms/step - loss: 0.0030\n",
      "Epoch 49/100\n",
      "1198/1198 [==============================] - 21s 18ms/step - loss: 0.0034\n",
      "Epoch 50/100\n",
      "1198/1198 [==============================] - 21s 17ms/step - loss: 0.0029\n",
      "Epoch 51/100\n",
      "1198/1198 [==============================] - 21s 17ms/step - loss: 0.0028\n",
      "Epoch 52/100\n",
      "1198/1198 [==============================] - 21s 18ms/step - loss: 0.0025\n",
      "Epoch 53/100\n",
      "1198/1198 [==============================] - 19s 16ms/step - loss: 0.0030\n",
      "Epoch 54/100\n",
      "1198/1198 [==============================] - 21s 18ms/step - loss: 0.0025\n",
      "Epoch 55/100\n",
      "1198/1198 [==============================] - 21s 18ms/step - loss: 0.0028\n",
      "Epoch 56/100\n",
      "1198/1198 [==============================] - 21s 17ms/step - loss: 0.0025\n",
      "Epoch 57/100\n",
      "1198/1198 [==============================] - 21s 18ms/step - loss: 0.0027\n",
      "Epoch 58/100\n",
      "1198/1198 [==============================] - 21s 18ms/step - loss: 0.0031\n",
      "Epoch 59/100\n",
      "1198/1198 [==============================] - 21s 18ms/step - loss: 0.0024\n",
      "Epoch 60/100\n",
      "1198/1198 [==============================] - 20s 17ms/step - loss: 0.0028\n",
      "Epoch 61/100\n",
      "1198/1198 [==============================] - 20s 16ms/step - loss: 0.0028\n",
      "Epoch 62/100\n",
      "1198/1198 [==============================] - 21s 18ms/step - loss: 0.0031\n",
      "Epoch 63/100\n",
      "1198/1198 [==============================] - 21s 18ms/step - loss: 0.0024\n",
      "Epoch 64/100\n",
      "1198/1198 [==============================] - 21s 18ms/step - loss: 0.0031\n",
      "Epoch 65/100\n",
      "1198/1198 [==============================] - 20s 17ms/step - loss: 0.0023\n",
      "Epoch 66/100\n",
      "1198/1198 [==============================] - 20s 16ms/step - loss: 0.0027\n",
      "Epoch 67/100\n",
      "1198/1198 [==============================] - 21s 18ms/step - loss: 0.0025\n",
      "Epoch 68/100\n",
      "1198/1198 [==============================] - 21s 18ms/step - loss: 0.0030\n",
      "Epoch 69/100\n",
      "1198/1198 [==============================] - 21s 17ms/step - loss: 0.0024\n",
      "Epoch 70/100\n",
      "1198/1198 [==============================] - 18s 15ms/step - loss: 0.0027\n",
      "Epoch 71/100\n",
      "1198/1198 [==============================] - 21s 18ms/step - loss: 0.0024\n",
      "Epoch 72/100\n",
      "1198/1198 [==============================] - 21s 18ms/step - loss: 0.0027\n",
      "Epoch 73/100\n",
      "1198/1198 [==============================] - 19s 16ms/step - loss: 0.0022\n",
      "Epoch 74/100\n",
      "1198/1198 [==============================] - 21s 18ms/step - loss: 0.0028\n",
      "Epoch 75/100\n",
      "1198/1198 [==============================] - 21s 18ms/step - loss: 0.0028\n",
      "Epoch 76/100\n",
      "1198/1198 [==============================] - 19s 16ms/step - loss: 0.0027\n",
      "Epoch 77/100\n",
      "1198/1198 [==============================] - 21s 18ms/step - loss: 0.0030\n",
      "Epoch 78/100\n",
      "1198/1198 [==============================] - 21s 18ms/step - loss: 0.0025\n",
      "Epoch 79/100\n",
      "1198/1198 [==============================] - 21s 18ms/step - loss: 0.0031\n",
      "Epoch 80/100\n",
      "1198/1198 [==============================] - 22s 18ms/step - loss: 0.0028\n",
      "Epoch 81/100\n",
      "1198/1198 [==============================] - 21s 18ms/step - loss: 0.0030\n",
      "Epoch 82/100\n",
      "1198/1198 [==============================] - 21s 17ms/step - loss: 0.0029\n",
      "Epoch 83/100\n",
      "1198/1198 [==============================] - 20s 17ms/step - loss: 0.0027\n",
      "Epoch 84/100\n",
      "1198/1198 [==============================] - 16s 13ms/step - loss: 0.0024\n",
      "Epoch 85/100\n",
      "1198/1198 [==============================] - 16s 14ms/step - loss: 0.0024\n",
      "Epoch 86/100\n",
      "1198/1198 [==============================] - 16s 13ms/step - loss: 0.0026\n",
      "Epoch 87/100\n",
      "1198/1198 [==============================] - 16s 14ms/step - loss: 0.0022\n",
      "Epoch 88/100\n",
      "1198/1198 [==============================] - 17s 14ms/step - loss: 0.0024\n",
      "Epoch 89/100\n",
      "1198/1198 [==============================] - 21s 17ms/step - loss: 0.0022\n",
      "Epoch 90/100\n",
      "1198/1198 [==============================] - 21s 17ms/step - loss: 0.0023\n",
      "Epoch 91/100\n",
      "1198/1198 [==============================] - 21s 17ms/step - loss: 0.0025\n",
      "Epoch 92/100\n",
      "1198/1198 [==============================] - 21s 17ms/step - loss: 0.0022\n",
      "Epoch 93/100\n",
      "1198/1198 [==============================] - 21s 17ms/step - loss: 0.0026\n",
      "Epoch 94/100\n",
      "1198/1198 [==============================] - 21s 17ms/step - loss: 0.0024\n",
      "Epoch 95/100\n"
     ]
    },
    {
     "name": "stdout",
     "output_type": "stream",
     "text": [
      "1198/1198 [==============================] - 20s 17ms/step - loss: 0.0023\n",
      "Epoch 96/100\n",
      "1198/1198 [==============================] - 21s 17ms/step - loss: 0.0024\n",
      "Epoch 97/100\n",
      "1198/1198 [==============================] - 19s 16ms/step - loss: 0.0021\n",
      "Epoch 98/100\n",
      "1198/1198 [==============================] - 17s 14ms/step - loss: 0.0023\n",
      "Epoch 99/100\n",
      "1198/1198 [==============================] - 21s 17ms/step - loss: 0.0022\n",
      "Epoch 100/100\n",
      "1198/1198 [==============================] - 21s 17ms/step - loss: 0.0023\n"
     ]
    }
   ],
   "source": [
    "#if you put validation data it will give the val_loss and history in the result\n",
    "history = regressor.fit(x_train, \n",
    "                    y_train,\n",
    "                    batch_size=32,\n",
    "                    epochs=100,\n",
    "                    verbose=1,\n",
    "                    shuffle=False)"
   ]
  },
  {
   "cell_type": "code",
   "execution_count": 87,
   "metadata": {},
   "outputs": [],
   "source": [
    "#to predict the test set we will should have stock prices t-60 to predict stock prices at t\n",
    "#you cannot implement the scaler independently to the test set\n",
    "#since the you have the implement the min max function to the model\n",
    "'''\n",
    "    horizontal concat axis should be set to 1\n",
    "    vertical concat axis should be set to 0\n",
    "'''\n",
    "df_total = pd.concat((df_train['Open'], df_test['Open']), axis=0)\n",
    "inputs = df_total.iloc[len(df_total) - len(df_test) - 60:].values\n",
    "\n",
    "inputs = inputs.reshape(-1,1)\n",
    "inputs = sc.transform(inputs)\n",
    "\n",
    "x_test = []\n",
    "y_test = df_test.iloc[:, 1:2].values\n",
    "\n",
    "for i in range(60, len(inputs)) :\n",
    "    x_test.append(inputs[i-60:i, 0])\n",
    "    \n",
    "#convert to np array\n",
    "x_test = np.array(x_test)\n",
    "x_test = np.reshape(x_test, (x_test.shape[0], x_test.shape[1], 1))"
   ]
  },
  {
   "cell_type": "code",
   "execution_count": 88,
   "metadata": {},
   "outputs": [],
   "source": [
    "y_pred = regressor.predict(x_test)"
   ]
  },
  {
   "cell_type": "code",
   "execution_count": 89,
   "metadata": {},
   "outputs": [],
   "source": [
    "#convert back the scaling\n",
    "y_pred = sc.inverse_transform(y_pred)"
   ]
  },
  {
   "cell_type": "code",
   "execution_count": 90,
   "metadata": {},
   "outputs": [
    {
     "data": {
      "image/png": "[encoded data removed]",
      "text/plain": [
       "<Figure size 432x288 with 1 Axes>"
      ]
     },
     "metadata": {
      "needs_background": "light"
     },
     "output_type": "display_data"
    }
   ],
   "source": [
    "plt.plot(y_test, color='red', label='real google stock price')\n",
    "plt.plot(y_pred, color='blue', label='predicted google stock price')\n",
    "plt.xlabel('Time')\n",
    "plt.ylabel('Google Stock Price')\n",
    "plt.legend()\n",
    "plt.show()"
   ]
  }
 ],
 "metadata": {
  "kernelspec": {
   "display_name": "Python [conda env:tensorflow-gpu]",
   "language": "python",
   "name": "conda-env-tensorflow-gpu-py"
  },
  "language_info": {
   "codemirror_mode": {
    "name": "ipython",
    "version": 3
   },
   "file_extension": ".py",
   "mimetype": "text/x-python",
   "name": "python",
   "nbconvert_exporter": "python",
   "pygments_lexer": "ipython3",
   "version": "3.5.6"
  }
 },
 "nbformat": 4,
 "nbformat_minor": 2
}
