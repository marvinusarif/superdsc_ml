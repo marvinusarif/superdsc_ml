{
 "cells": [
  {
   "cell_type": "code",
   "execution_count": 100,
   "metadata": {},
   "outputs": [],
   "source": [
    "import numpy as np\n",
    "import matplotlib.pyplot as plt\n",
    "import pandas as pd\n",
    "import math"
   ]
  },
  {
   "cell_type": "code",
   "execution_count": 101,
   "metadata": {
    "scrolled": true
   },
   "outputs": [
    {
     "data": {
      "text/plain": [
       "((10000, 10),    Ad 1  Ad 2  Ad 3  Ad 4  Ad 5  Ad 6  Ad 7  Ad 8  Ad 9  Ad 10\n",
       " 0     1     0     0     0     1     0     0     0     1      0\n",
       " 1     0     0     0     0     0     0     0     0     1      0\n",
       " 2     0     0     0     0     0     0     0     0     0      0\n",
       " 3     0     1     0     0     0     0     0     1     0      0\n",
       " 4     0     0     0     0     0     0     0     0     0      0)"
      ]
     },
     "execution_count": 101,
     "metadata": {},
     "output_type": "execute_result"
    }
   ],
   "source": [
    "df = pd.read_csv(\"../Section 32 - Upper Confidence Bound (UCB)/Ads_CTR_Optimisation.csv\")\n",
    "'''Dataset for the simulation : click on Ads\n",
    "    rows represent different unique users (10,000 users)\n",
    "    cols represent ads type (10 unique ads)\n",
    "- select the ads with the most clicks'''\n",
    "df.shape, df.head()"
   ]
  },
  {
   "cell_type": "code",
   "execution_count": 102,
   "metadata": {},
   "outputs": [],
   "source": [
    "num_of_rows = df.shape[0]\n",
    "num_of_cols = df.shape[1]"
   ]
  },
  {
   "cell_type": "code",
   "execution_count": 103,
   "metadata": {},
   "outputs": [
    {
     "data": {
      "text/plain": [
       "(array([0, 0, 0, 0, 0, 0, 0, 0, 0, 0]),\n",
       " array([0, 0, 0, 0, 0, 0, 0, 0, 0, 0]),\n",
       " 0)"
      ]
     },
     "execution_count": 103,
     "metadata": {},
     "output_type": "execute_result"
    }
   ],
   "source": [
    "#implement UCB\n",
    "ads_selected = []\n",
    "numbers_of_selection = np.zeros(num_of_cols,dtype=int)\n",
    "sums_of_rewards = np.zeros(num_of_cols, dtype=int)\n",
    "total_rewards = 0\n",
    "numbers_of_selection, sums_of_rewards, total_rewards"
   ]
  },
  {
   "cell_type": "code",
   "execution_count": 104,
   "metadata": {},
   "outputs": [],
   "source": [
    "for n in range(0, num_of_rows) :\n",
    "    ad = 0\n",
    "    max_upper_bound = 0\n",
    "    for i in range(0, num_of_cols) :\n",
    "        if numbers_of_selection[i] > 0 :\n",
    "            average_reward = sums_of_rewards[i] / numbers_of_selection[i]\n",
    "            delta_i = math.sqrt( (3/2) * math.log(n + 1) / numbers_of_selection[i])\n",
    "            upper_bound = average_reward + delta_i\n",
    "        else :\n",
    "            upper_bound = 1e400\n",
    "        if upper_bound > max_upper_bound :\n",
    "            max_upper_bound = upper_bound\n",
    "            #specific ad\n",
    "            ad = i\n",
    "    \n",
    "    ads_selected.append(ad)\n",
    "    numbers_of_selection[ad] += 1\n",
    "    \n",
    "    reward = df.values[n, ad]\n",
    "    sums_of_rewards[ad] += reward\n",
    "    \n",
    "    total_rewards += reward"
   ]
  },
  {
   "cell_type": "code",
   "execution_count": 105,
   "metadata": {},
   "outputs": [
    {
     "data": {
      "text/plain": [
       "(2178,\n",
       " array([ 705,  387,  186,  345, 6323,  150,  292, 1170,  256,  186]),\n",
       " array([ 120,   47,    7,   38, 1675,    1,   27,  236,   20,    7]))"
      ]
     },
     "execution_count": 105,
     "metadata": {},
     "output_type": "execute_result"
    }
   ],
   "source": [
    "total_rewards, numbers_of_selection, sums_of_rewards"
   ]
  },
  {
   "cell_type": "code",
   "execution_count": 106,
   "metadata": {},
   "outputs": [
    {
     "data": {
      "text/plain": [
       "([1, 2, 3, 4, 5, 6, 7, 8, 9], [4, 4, 4, 4, 4, 4, 4, 4, 4, 4])"
      ]
     },
     "execution_count": 106,
     "metadata": {},
     "output_type": "execute_result"
    }
   ],
   "source": [
    "ads_selected[1:10], ads_selected[-10:]"
   ]
  },
  {
   "cell_type": "code",
   "execution_count": 107,
   "metadata": {},
   "outputs": [
    {
     "data": {
      "image/png": "[encoded data removed]",
      "text/plain": [
       "<Figure size 432x288 with 1 Axes>"
      ]
     },
     "metadata": {
      "needs_background": "light"
     },
     "output_type": "display_data"
    }
   ],
   "source": [
    "plt.hist(ads_selected)\n",
    "plt.title('Histogram of ads Selection')\n",
    "plt.xlabel('Ads')\n",
    "plt.ylabel('show')\n",
    "plt.show()"
   ]
  }
 ],
 "metadata": {
  "kernelspec": {
   "display_name": "Python [conda env:tensorflow-gpu]",
   "language": "python",
   "name": "conda-env-tensorflow-gpu-py"
  },
  "language_info": {
   "codemirror_mode": {
    "name": "ipython",
    "version": 3
   },
   "file_extension": ".py",
   "mimetype": "text/x-python",
   "name": "python",
   "nbconvert_exporter": "python",
   "pygments_lexer": "ipython3",
   "version": "3.5.6"
  }
 },
 "nbformat": 4,
 "nbformat_minor": 2
}
