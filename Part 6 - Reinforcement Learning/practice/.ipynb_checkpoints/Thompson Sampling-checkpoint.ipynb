{
 "cells": [
  {
   "cell_type": "code",
   "execution_count": 30,
   "metadata": {},
   "outputs": [],
   "source": [
    "import numpy as np\n",
    "import matplotlib.pyplot as plt\n",
    "import pandas as pd\n",
    "import random"
   ]
  },
  {
   "cell_type": "code",
   "execution_count": 31,
   "metadata": {
    "scrolled": true
   },
   "outputs": [
    {
     "data": {
      "text/plain": [
       "((10000, 10),    Ad 1  Ad 2  Ad 3  Ad 4  Ad 5  Ad 6  Ad 7  Ad 8  Ad 9  Ad 10\n",
       " 0     1     0     0     0     1     0     0     0     1      0\n",
       " 1     0     0     0     0     0     0     0     0     1      0\n",
       " 2     0     0     0     0     0     0     0     0     0      0\n",
       " 3     0     1     0     0     0     0     0     1     0      0\n",
       " 4     0     0     0     0     0     0     0     0     0      0)"
      ]
     },
     "execution_count": 31,
     "metadata": {},
     "output_type": "execute_result"
    }
   ],
   "source": [
    "df = pd.read_csv(\"../Section 33 - Thompson Sampling/Ads_CTR_Optimisation.csv\")\n",
    "'''Dataset for the simulation : click on Ads\n",
    "    rows represent different unique users (10,000 users)\n",
    "    cols represent ads type (10 unique ads)\n",
    "- select the ads with the most clicks'''\n",
    "df.shape, df.head()"
   ]
  },
  {
   "cell_type": "code",
   "execution_count": 32,
   "metadata": {},
   "outputs": [],
   "source": [
    "num_of_rows = df.shape[0]\n",
    "num_of_cols = df.shape[1]"
   ]
  },
  {
   "cell_type": "code",
   "execution_count": 33,
   "metadata": {},
   "outputs": [
    {
     "data": {
      "text/plain": [
       "(array([0, 0, 0, 0, 0, 0, 0, 0, 0, 0]),\n",
       " array([0, 0, 0, 0, 0, 0, 0, 0, 0, 0]),\n",
       " 0)"
      ]
     },
     "execution_count": 33,
     "metadata": {},
     "output_type": "execute_result"
    }
   ],
   "source": [
    "#implement Thompson Sampling\n",
    "ads_selected = []\n",
    "numbers_of_rewards_1 = np.zeros(num_of_cols, dtype=int)\n",
    "numbers_of_rewards_0 = np.zeros(num_of_cols, dtype=int)\n",
    "total_rewards = 0\n",
    "numbers_of_rewards_1, numbers_of_rewards_0, total_rewards"
   ]
  },
  {
   "cell_type": "code",
   "execution_count": 34,
   "metadata": {},
   "outputs": [],
   "source": [
    "for n in range(0, num_of_rows) :\n",
    "    ad = 0\n",
    "    max_random = 0\n",
    "    for i in range(0, num_of_cols) :\n",
    "        random_beta = random.betavariate(numbers_of_rewards_1[i] + 1,\\\n",
    "                                         numbers_of_rewards_0[i] + 1)\n",
    "        if random_beta > max_random :\n",
    "            max_random = random_beta\n",
    "            #specific ad\n",
    "            ad = i\n",
    "    ads_selected.append(ad)  \n",
    "    \n",
    "    reward = df.values[n, ad]\n",
    "    if reward == 1 :\n",
    "        numbers_of_rewards_1[ad] += 1\n",
    "    else :\n",
    "        numbers_of_rewards_0[ad] += 1\n",
    "        \n",
    "    total_rewards += reward"
   ]
  },
  {
   "cell_type": "code",
   "execution_count": 35,
   "metadata": {},
   "outputs": [
    {
     "data": {
      "text/plain": [
       "(2568,\n",
       " array([  31,   24,    1,   14, 2432,    0,    9,   54,    2,    1]),\n",
       " array([ 135,  115,   30,   89, 6685,   24,   68,  219,   35,   32]))"
      ]
     },
     "execution_count": 35,
     "metadata": {},
     "output_type": "execute_result"
    }
   ],
   "source": [
    "total_rewards, numbers_of_rewards_1, numbers_of_rewards_0"
   ]
  },
  {
   "cell_type": "code",
   "execution_count": 36,
   "metadata": {},
   "outputs": [
    {
     "data": {
      "text/plain": [
       "([2, 0, 1, 3, 6, 8, 9, 7, 0, 4], [4, 4, 4, 4, 4, 4, 4, 4, 4, 4])"
      ]
     },
     "execution_count": 36,
     "metadata": {},
     "output_type": "execute_result"
    }
   ],
   "source": [
    "ads_selected[:10], ads_selected[-10:]"
   ]
  },
  {
   "cell_type": "code",
   "execution_count": 37,
   "metadata": {},
   "outputs": [
    {
     "data": {
      "image/png": "[encoded data removed]",
      "text/plain": [
       "<Figure size 432x288 with 1 Axes>"
      ]
     },
     "metadata": {
      "needs_background": "light"
     },
     "output_type": "display_data"
    }
   ],
   "source": [
    "plt.hist(ads_selected)\n",
    "plt.title('Histogram of ads Selection')\n",
    "plt.xlabel('Ads')\n",
    "plt.ylabel('show')\n",
    "plt.show()"
   ]
  }
 ],
 "metadata": {
  "kernelspec": {
   "display_name": "Python [conda env:tensorflow-gpu]",
   "language": "python",
   "name": "conda-env-tensorflow-gpu-py"
  },
  "language_info": {
   "codemirror_mode": {
    "name": "ipython",
    "version": 3
   },
   "file_extension": ".py",
   "mimetype": "text/x-python",
   "name": "python",
   "nbconvert_exporter": "python",
   "pygments_lexer": "ipython3",
   "version": "3.5.6"
  }
 },
 "nbformat": 4,
 "nbformat_minor": 2
}
